{
 "cells": [
  {
   "cell_type": "code",
   "execution_count": null,
   "metadata": {},
   "outputs": [],
   "source": [
    "%load_ext autoreload\n",
    "%autoreload 2"
   ]
  },
  {
   "cell_type": "code",
   "execution_count": 159,
   "metadata": {},
   "outputs": [],
   "source": [
    "import numpy as np\n",
    "import pandas as pd\n",
    "import matplotlib.pyplot as plt\n",
    "import seaborn as sns\n",
    "\n",
    "from paths import STAGE_DIR, ANALYSIS_DIR\n",
    "from display import cdisplay, rdisplay"
   ]
  },
  {
   "attachments": {},
   "cell_type": "markdown",
   "metadata": {},
   "source": [
    "# Load data"
   ]
  },
  {
   "cell_type": "code",
   "execution_count": null,
   "metadata": {},
   "outputs": [],
   "source": [
    "patient_df = pd.read_parquet(STAGE_DIR / 'patient-preprocessed-v3.parquet')\n",
    "tnm_df = pd.read_parquet(STAGE_DIR / 'tnm-preprocessed-v1.parquet')"
   ]
  },
  {
   "cell_type": "code",
   "execution_count": null,
   "metadata": {},
   "outputs": [],
   "source": [
    "print(f'''\n",
    "{patient_df.shape=}\n",
    "{tnm_df.shape=}\n",
    "''')"
   ]
  },
  {
   "cell_type": "code",
   "execution_count": null,
   "metadata": {},
   "outputs": [],
   "source": [
    "cdisplay(patient_df.head())"
   ]
  },
  {
   "cell_type": "code",
   "execution_count": null,
   "metadata": {},
   "outputs": [],
   "source": [
    "cdisplay(tnm_df.head())"
   ]
  },
  {
   "cell_type": "code",
   "execution_count": null,
   "metadata": {},
   "outputs": [],
   "source": [
    "set(patient_df['ehr']).difference(tnm_df['ehr'].unique())"
   ]
  },
  {
   "cell_type": "code",
   "execution_count": null,
   "metadata": {},
   "outputs": [],
   "source": [
    "set(tnm_df['ehr']).difference(patient_df['ehr'])"
   ]
  },
  {
   "attachments": {},
   "cell_type": "markdown",
   "metadata": {},
   "source": [
    "# Merge datasets"
   ]
  },
  {
   "attachments": {},
   "cell_type": "markdown",
   "metadata": {},
   "source": [
    "Because the each dataset has some patients information that doesn't appear in the other dataset, merging will be done staying with the indexes present in both datasets. The aim is to fill the NaN observation in `neoadjuvant` column with information about the treatments and `invasive` with information gathered in the columns `t`, `n` and `m`."
   ]
  },
  {
   "cell_type": "code",
   "execution_count": null,
   "metadata": {},
   "outputs": [],
   "source": [
    "data = pd.merge(patient_df, tnm_df, on='ehr', how='inner')"
   ]
  },
  {
   "cell_type": "code",
   "execution_count": null,
   "metadata": {},
   "outputs": [],
   "source": [
    "cdisplay(data.head())"
   ]
  },
  {
   "cell_type": "code",
   "execution_count": null,
   "metadata": {},
   "outputs": [],
   "source": [
    "data.shape"
   ]
  },
  {
   "cell_type": "code",
   "execution_count": null,
   "metadata": {},
   "outputs": [],
   "source": [
    "data.info()"
   ]
  },
  {
   "cell_type": "code",
   "execution_count": null,
   "metadata": {},
   "outputs": [],
   "source": [
    "data['ehr'].value_counts(dropna=False)"
   ]
  },
  {
   "attachments": {},
   "cell_type": "markdown",
   "metadata": {},
   "source": [
    "# Preprocess"
   ]
  },
  {
   "attachments": {},
   "cell_type": "markdown",
   "metadata": {},
   "source": [
    "## Solve `neoadjuvant` null value"
   ]
  },
  {
   "attachments": {},
   "cell_type": "markdown",
   "metadata": {},
   "source": [
    "Given that the patient 736 has no information of the tumors after neoadjuvant and the `neoadjuvant` column is null for this observation, then we are going to assume that the correct `neoadjuvant` value is 0."
   ]
  },
  {
   "cell_type": "code",
   "execution_count": null,
   "metadata": {},
   "outputs": [],
   "source": [
    "cdisplay(data[data['neoadjuvant'].isna()])"
   ]
  },
  {
   "cell_type": "code",
   "execution_count": null,
   "metadata": {},
   "outputs": [],
   "source": [
    "data['neoadjuvant'] = data['neoadjuvant'].fillna(0).astype(int)"
   ]
  },
  {
   "cell_type": "code",
   "execution_count": null,
   "metadata": {},
   "outputs": [],
   "source": [
    "data['neoadjuvant'].value_counts(dropna=False)"
   ]
  },
  {
   "attachments": {},
   "cell_type": "markdown",
   "metadata": {},
   "source": [
    "## Solve `invasive` nulls"
   ]
  },
  {
   "cell_type": "code",
   "execution_count": null,
   "metadata": {},
   "outputs": [],
   "source": [
    "data['invasive'].value_counts(dropna=False)"
   ]
  },
  {
   "attachments": {},
   "cell_type": "markdown",
   "metadata": {},
   "source": [
    "The `invasive` column meaning provided by the teacher states that an invasive feature \"indicates whether the tumor is invasive or not. If it is not invasive, then it is \"in situ\".\".\n",
    "\n",
    "According to this, if a tumor is considered invasive (`invasive` = 1), then the variable `t` shouldn't be classified as `IS` (meaning `IS`). We proposed changing the value of the column `invasive` for those observations to 0."
   ]
  },
  {
   "cell_type": "code",
   "execution_count": null,
   "metadata": {},
   "outputs": [],
   "source": [
    "data.loc[data['invasive'].eq(1), ['t', 't_after_neoadj']].value_counts(dropna=False).sort_index()"
   ]
  },
  {
   "attachments": {},
   "cell_type": "markdown",
   "metadata": {},
   "source": [
    "The null values of the `invasive` feature correspond to three cases:\n",
    "* In situ primary tumors (`t = TIS`) => `invasive = 0`\n",
    "* Primary tumor classification in `T1`, `T2`, `T3` or `T4` => `invase = 1`\n",
    "* Observations where primary tumor classification is `T0` (no evidence of primary tumor) or `TX` (primary tumor cannot be assessed), but the illness spread through the organism (`M = M1`) => `invasive = 1`"
   ]
  },
  {
   "cell_type": "code",
   "execution_count": null,
   "metadata": {},
   "outputs": [],
   "source": [
    "data.loc[\n",
    "    data['invasive'].isna(),\n",
    "    ['t', 'n', 'm', 't_after_neoadj', 'n_after_neoadj', 'm_after_neoadj']] \\\n",
    ".value_counts(dropna=False) \\\n",
    ".sort_index()"
   ]
  },
  {
   "cell_type": "code",
   "execution_count": null,
   "metadata": {},
   "outputs": [],
   "source": [
    "data['invasive'] = np.select(\n",
    "    [data['t'].eq('TIS'),\n",
    "     data['invasive'].isna() & ~data['t'].eq('TIS')],\n",
    "    [0, 1],\n",
    "    data['invasive']\n",
    ")"
   ]
  },
  {
   "attachments": {},
   "cell_type": "markdown",
   "metadata": {},
   "source": [
    "## Analyze `neoadjuvant` vs treatment columns"
   ]
  },
  {
   "attachments": {},
   "cell_type": "markdown",
   "metadata": {},
   "source": [
    "If a treatment isn't applied to a certain person, then it makes sense to have nulls on treatment columns. This are **nulls by design** in the experiment, so we will create a new category for this cases to differentiate them from the rest of the nulls. We propose `TN`, `NN` and `MN` for the columns `t_after_neoadj`, `n_after_neoadj` and `m_after_neoadj` respectively."
   ]
  },
  {
   "cell_type": "code",
   "execution_count": null,
   "metadata": {},
   "outputs": [],
   "source": [
    "data[[\n",
    "    'neoadjuvant', 't_after_neoadj',\n",
    "    'n_after_neoadj', 'm_after_neoadj']] \\\n",
    ".value_counts(dropna=False) \\\n",
    ".sort_index()"
   ]
  },
  {
   "attachments": {},
   "cell_type": "markdown",
   "metadata": {},
   "source": [
    "As we can see, there is an observation that didn't reaceive treatment, but has information about the tumors after it. In the case of this observation, before the \"treatment\" there was no evidence of any tumor, so the treatment could not be justify. In this case, we decided to change the post-treatment values to the null by design category."
   ]
  },
  {
   "cell_type": "code",
   "execution_count": null,
   "metadata": {},
   "outputs": [],
   "source": [
    "data.loc[\n",
    "    data['neoadjuvant'].eq(0) & data['t_after_neoadj'].eq('T2'),\n",
    "    ['t', 'n', 'm', 't_after_neoadj', 'n_after_neoadj', 'm_after_neoadj']]"
   ]
  },
  {
   "cell_type": "code",
   "execution_count": null,
   "metadata": {},
   "outputs": [],
   "source": [
    "data.describe().T"
   ]
  },
  {
   "cell_type": "code",
   "execution_count": null,
   "metadata": {},
   "outputs": [],
   "source": [
    "data['t_after_neoadj'] = np.where(\n",
    "    data['neoadjuvant'].eq(0),\n",
    "    'TN',\n",
    "    data['t_after_neoadj']\n",
    ")\n",
    "data['n_after_neoadj'] = np.where(\n",
    "    data['neoadjuvant'].eq(0),\n",
    "    'NN',\n",
    "    data['n_after_neoadj']\n",
    ")\n",
    "data['m_after_neoadj'] = np.where(\n",
    "    data['neoadjuvant'].eq(0),\n",
    "    'MN',\n",
    "    data['m_after_neoadj']\n",
    ")"
   ]
  },
  {
   "cell_type": "code",
   "execution_count": null,
   "metadata": {},
   "outputs": [],
   "source": [
    "data[['neoadjuvant', 't_after_neoadj', 'n_after_neoadj', 'm_after_neoadj']] \\\n",
    "    .value_counts(dropna=False) \\\n",
    "    .sort_index()"
   ]
  },
  {
   "attachments": {},
   "cell_type": "markdown",
   "metadata": {},
   "source": [
    "## Analyze pre-treatment vs post-treatment variables"
   ]
  },
  {
   "cell_type": "code",
   "execution_count": null,
   "metadata": {},
   "outputs": [],
   "source": [
    "data_vs = data[data['neoadjuvant'].eq(1)].copy()"
   ]
  },
  {
   "cell_type": "code",
   "execution_count": null,
   "metadata": {},
   "outputs": [],
   "source": [
    "fig, axes = plt.subplots(1, 3, figsize=(15, 4))\n",
    "\n",
    "fig.suptitle('Pre-treatment vs post-treatment variables')\n",
    "\n",
    "for i, col in enumerate(['t', 'n', 'm']):\n",
    "    sns.stripplot(\n",
    "        ax=axes[i],\n",
    "        data=data_vs,\n",
    "        x=col,\n",
    "        y=f'{col}_after_neoadj',\n",
    "        c='orange')\n",
    "    axes[i].set_title(f'{col.upper()} before and after treatment')\n",
    "    axes[i].set_xlabel(f'Pre-treatment {col.upper()} value')\n",
    "    axes[i].set_ylabel(f'Post-treatment {col.upper()} value')"
   ]
  },
  {
   "attachments": {},
   "cell_type": "markdown",
   "metadata": {},
   "source": [
    "The `T9`, `N9` and `M9` categories correspond to null values in the columns. Given that we have eliminated the nulls by design in the post-treatment columns, the remaining nulls could be for several reason including dead before the end of the treatment. We don't have information to filter this cases, so we will assume that if a null value is still in the columns, then it is going to be because the tumor could not be assessed (`X` category)."
   ]
  },
  {
   "cell_type": "code",
   "execution_count": null,
   "metadata": {},
   "outputs": [],
   "source": [
    "data_vs[['m', 'm_after_neoadj']].value_counts(dropna=False).sort_index()"
   ]
  },
  {
   "cell_type": "code",
   "execution_count": null,
   "metadata": {},
   "outputs": [],
   "source": [
    "data_vs[['n', 'n_after_neoadj']].value_counts(dropna=False).sort_index()"
   ]
  },
  {
   "cell_type": "code",
   "execution_count": null,
   "metadata": {},
   "outputs": [],
   "source": [
    "data_vs[['t', 't_after_neoadj']].value_counts(dropna=False).sort_index()"
   ]
  },
  {
   "cell_type": "code",
   "execution_count": null,
   "metadata": {},
   "outputs": [],
   "source": [
    "data[['t', 't_after_neoadj']] = data[['t', 't_after_neoadj']].replace('T9', 'TX')\n",
    "data[['n', 'n_after_neoadj']] = data[['n', 'n_after_neoadj']].replace('N9', 'NX')\n",
    "data[['m', 'm_after_neoadj']] = data[['m', 'm_after_neoadj']].replace('M9', 'MX')"
   ]
  },
  {
   "attachments": {},
   "cell_type": "markdown",
   "metadata": {},
   "source": [
    "# Split datasets"
   ]
  },
  {
   "attachments": {},
   "cell_type": "markdown",
   "metadata": {},
   "source": [
    "The merged dataset was useful to analyze relations between treatment variables in the both dataset and information about tumors. However, we recommend to keep it separated and to use them according to specific problems that may need one dataset or the other ot both. This decision is also based in the difference of patient that each dataset have respect the other."
   ]
  },
  {
   "cell_type": "code",
   "execution_count": null,
   "metadata": {},
   "outputs": [],
   "source": [
    "patient_preprocessed_df = pd.concat([\n",
    "    data[patient_df.columns],\n",
    "    patient_df[~patient_df['ehr'].isin(data['ehr'].unique())]]) \\\n",
    ".drop_duplicates()\n",
    "\n",
    "tnm_preprocessed_df = pd.concat([\n",
    "    data[tnm_df.columns],\n",
    "    tnm_df[~tnm_df['ehr'].isin(data['ehr'].unique())]])"
   ]
  },
  {
   "cell_type": "code",
   "execution_count": null,
   "metadata": {},
   "outputs": [],
   "source": [
    "patient_preprocessed_df.info()"
   ]
  },
  {
   "attachments": {},
   "cell_type": "markdown",
   "metadata": {},
   "source": [
    "The column `invasive` still has 2 nulls. These correspond to patients that weren't in the treatment dataset and for that reason they weren't analyzed in the merged. We are going to impute it with the mode."
   ]
  },
  {
   "cell_type": "code",
   "execution_count": null,
   "metadata": {},
   "outputs": [],
   "source": [
    "patient_preprocessed_df['invasive'] = patient_preprocessed_df['invasive'].fillna(\n",
    "    patient_preprocessed_df['invasive'].mode().iloc[0]\n",
    ")"
   ]
  },
  {
   "cell_type": "code",
   "execution_count": null,
   "metadata": {},
   "outputs": [],
   "source": [
    "tnm_preprocessed_df.info()"
   ]
  },
  {
   "attachments": {},
   "cell_type": "markdown",
   "metadata": {},
   "source": [
    "# Save datasets"
   ]
  },
  {
   "cell_type": "code",
   "execution_count": 160,
   "metadata": {},
   "outputs": [],
   "source": [
    "patient_preprocessed_df.to_csv(ANALYSIS_DIR / 'patient-dataset-v1.csv')\n",
    "tnm_preprocessed_df.to_csv(ANALYSIS_DIR / 'tnm-dataset-v1.csv')"
   ]
  }
 ],
 "metadata": {
  "kernelspec": {
   "display_name": "data-process",
   "language": "python",
   "name": "python3"
  },
  "language_info": {
   "codemirror_mode": {
    "name": "ipython",
    "version": 3
   },
   "file_extension": ".py",
   "mimetype": "text/x-python",
   "name": "python",
   "nbconvert_exporter": "python",
   "pygments_lexer": "ipython3",
   "version": "3.10.8"
  },
  "orig_nbformat": 4,
  "vscode": {
   "interpreter": {
    "hash": "d7caac3c13166b51166462c78fd3a0f48ae424f75ecdaa75fab4d4748ca1b6a3"
   }
  }
 },
 "nbformat": 4,
 "nbformat_minor": 2
}
