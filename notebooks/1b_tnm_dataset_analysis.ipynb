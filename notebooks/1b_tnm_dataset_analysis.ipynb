{
 "cells": [
  {
   "cell_type": "code",
   "execution_count": null,
   "metadata": {},
   "outputs": [],
   "source": [
    "# import libraries\n",
    "import pandas as pd\n",
    "import numpy as np\n",
    "import matplotlib.pyplot as plt\n",
    "import seaborn as sns\n",
    "\n",
    "from paths import RAW_DIR, STAGE_DIR"
   ]
  },
  {
   "cell_type": "markdown",
   "metadata": {},
   "source": [
    "### Import the data"
   ]
  },
  {
   "cell_type": "code",
   "execution_count": null,
   "metadata": {},
   "outputs": [],
   "source": [
    "tnm1 = pd.read_csv(RAW_DIR / \"breast_cancer_data_tnm.csv\")\n",
    "tnm2 = pd.read_csv(RAW_DIR / \"breast_cancer_data_tnm_2.csv\")"
   ]
  },
  {
   "cell_type": "code",
   "execution_count": null,
   "metadata": {},
   "outputs": [],
   "source": [
    "# concatenate the two datasets\n",
    "data_tnm = pd.concat([tnm1, tnm2])\n",
    "data_tnm"
   ]
  },
  {
   "cell_type": "code",
   "execution_count": null,
   "metadata": {},
   "outputs": [],
   "source": [
    "cat = (data_tnm.dtypes == object)\n",
    "cat_cols = data_tnm.columns[cat].tolist()\n",
    "\n",
    "for column in cat_cols:\n",
    "  print(column, data_tnm[column].unique())"
   ]
  },
  {
   "cell_type": "markdown",
   "metadata": {},
   "source": [
    "### NULL values"
   ]
  },
  {
   "cell_type": "code",
   "execution_count": null,
   "metadata": {},
   "outputs": [],
   "source": [
    "print(data_tnm.isnull().sum())\n",
    "data_tnm.info()"
   ]
  },
  {
   "cell_type": "code",
   "execution_count": null,
   "metadata": {},
   "outputs": [],
   "source": [
    "data_tnm['t'] = 'T' + (data_tnm['t']\n",
    "    .fillna(9)\n",
    "    .astype(str)\n",
    "    .replace('\\.0', '', regex=True))\n",
    "data_tnm['n'] = 'N' + (data_tnm['n']\n",
    "    .fillna(9)\n",
    "    .astype(str)\n",
    "    .replace('\\.0', '', regex=True))\n",
    "data_tnm['m'] = 'M' + (data_tnm['m']\n",
    "    .fillna(9)\n",
    "    .astype(str)\n",
    "    .replace('\\.0', '', regex=True))\n",
    "\n",
    "data_tnm['t_after_neoadj'] = 'T' + (data_tnm['t_after_neoadj']\n",
    "    .fillna(9)\n",
    "    .astype(str)\n",
    "    .replace('\\.0', '', regex=True))\n",
    "data_tnm['n_after_neoadj'] = 'N' + (data_tnm['n_after_neoadj']\n",
    "    .fillna(9)\n",
    "    .astype(str)\n",
    "    .replace('\\.0', '', regex=True))\n",
    "data_tnm['m_after_neoadj'] = 'M' + (data_tnm['m_after_neoadj']\n",
    "    .fillna(9)\n",
    "    .astype(str)\n",
    "    .replace('\\.0', '', regex=True))"
   ]
  },
  {
   "cell_type": "code",
   "execution_count": null,
   "metadata": {},
   "outputs": [],
   "source": [
    "# Users can be duplicated for diff tumor types\n",
    "data_tnm[data_tnm.ehr.duplicated(keep=False)]"
   ]
  },
  {
   "cell_type": "code",
   "execution_count": null,
   "metadata": {},
   "outputs": [],
   "source": [
    "data_tnm.loc[data_tnm.t.eq(\"TIS\"), ['t', 't_after_neoadj']].value_counts(dropna=False)"
   ]
  },
  {
   "cell_type": "code",
   "execution_count": null,
   "metadata": {},
   "outputs": [],
   "source": [
    "len(data_tnm['ehr'].unique())"
   ]
  },
  {
   "cell_type": "code",
   "execution_count": null,
   "metadata": {},
   "outputs": [],
   "source": [
    "data_tnm['t'].value_counts()"
   ]
  },
  {
   "cell_type": "code",
   "execution_count": null,
   "metadata": {},
   "outputs": [],
   "source": [
    "data_tnm['t_after_neoadj'].value_counts()"
   ]
  },
  {
   "cell_type": "code",
   "execution_count": null,
   "metadata": {},
   "outputs": [],
   "source": [
    "# Take only data from patients with info before and after treatment\n",
    "t_before_after = data_tnm.loc[(data_tnm.t != \"TX\") & (data_tnm.t_after_neoadj != \"TX\"), ['t', 't_after_neoadj']]\n",
    "n_before_after = data_tnm.loc[(data_tnm.n != \"NX\") & (data_tnm.n_after_neoadj != \"NX\"), ['n', 'n_after_neoadj']]\n",
    "m_before_after = data_tnm.loc[(data_tnm.m != \"MX\") & (data_tnm.m_after_neoadj != \"MX\"), ['m', 'm_after_neoadj']]\n",
    "print(\n",
    "  'T', len(t_before_after),\n",
    "  'N',len(n_before_after),\n",
    "  'M',len(m_before_after)\n",
    "  )"
   ]
  },
  {
   "cell_type": "code",
   "execution_count": null,
   "metadata": {},
   "outputs": [],
   "source": [
    "# Show the effect of neoadjuvance\n",
    "fig, axes = plt.subplots(1, 3, figsize=(15, 5))\n",
    "\n",
    "sns.countplot(ax=axes[0], data=pd.melt(t_before_after), x='value', hue='variable')\n",
    "axes[0].set(xlabel='Stage')\n",
    "axes[0].set(ylabel='Patients')\n",
    "axes[0].set_title('T')\n",
    "\n",
    "sns.countplot(ax=axes[1], data=pd.melt(n_before_after), x='value', hue='variable')\n",
    "axes[1].set(xlabel='Stage')\n",
    "axes[1].set(ylabel='Patients')\n",
    "axes[1].set_title('N')\n",
    "\n",
    "sns.countplot(ax=axes[2], data=pd.melt(m_before_after), x='value', hue='variable')\n",
    "axes[2].set(xlabel='Stage')\n",
    "axes[2].set(ylabel='Patients')\n",
    "axes[2].set_title('M')"
   ]
  },
  {
   "cell_type": "code",
   "execution_count": null,
   "metadata": {},
   "outputs": [],
   "source": [
    "data_tnm.to_parquet(STAGE_DIR / 'tnm-preprocessed-v1.parquet')"
   ]
  }
 ],
 "metadata": {
  "kernelspec": {
   "display_name": "data-process",
   "language": "python",
   "name": "python3"
  },
  "language_info": {
   "codemirror_mode": {
    "name": "ipython",
    "version": 3
   },
   "file_extension": ".py",
   "mimetype": "text/x-python",
   "name": "python",
   "nbconvert_exporter": "python",
   "pygments_lexer": "ipython3",
   "version": "3.10.8"
  },
  "orig_nbformat": 4,
  "vscode": {
   "interpreter": {
    "hash": "d7caac3c13166b51166462c78fd3a0f48ae424f75ecdaa75fab4d4748ca1b6a3"
   }
  }
 },
 "nbformat": 4,
 "nbformat_minor": 2
}
