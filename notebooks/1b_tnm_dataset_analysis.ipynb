{
 "cells": [
  {
   "cell_type": "code",
   "execution_count": 1,
   "metadata": {},
   "outputs": [],
   "source": [
    "# import libraries\n",
    "import pandas as pd\n",
    "import numpy as np\n",
    "\n",
    "from sklearn.impute import SimpleImputer\n",
    "\n",
    "from paths import RAW_DIR, STAGE_DIR"
   ]
  },
  {
   "cell_type": "markdown",
   "metadata": {},
   "source": [
    "### Import the data"
   ]
  },
  {
   "cell_type": "code",
   "execution_count": 2,
   "metadata": {},
   "outputs": [],
   "source": [
    "tnm1 = pd.read_csv(RAW_DIR / \"breast_cancer_data_tnm.csv\")\n",
    "tnm2 = pd.read_csv(RAW_DIR / \"breast_cancer_data_tnm_2.csv\")"
   ]
  },
  {
   "cell_type": "code",
   "execution_count": 3,
   "metadata": {},
   "outputs": [
    {
     "data": {
      "text/html": [
       "<div>\n",
       "<style scoped>\n",
       "    .dataframe tbody tr th:only-of-type {\n",
       "        vertical-align: middle;\n",
       "    }\n",
       "\n",
       "    .dataframe tbody tr th {\n",
       "        vertical-align: top;\n",
       "    }\n",
       "\n",
       "    .dataframe thead th {\n",
       "        text-align: right;\n",
       "    }\n",
       "</style>\n",
       "<table border=\"1\" class=\"dataframe\">\n",
       "  <thead>\n",
       "    <tr style=\"text-align: right;\">\n",
       "      <th></th>\n",
       "      <th>ehr</th>\n",
       "      <th>n_tumor</th>\n",
       "      <th>t</th>\n",
       "      <th>n</th>\n",
       "      <th>m</th>\n",
       "      <th>t_after_neoadj</th>\n",
       "      <th>n_after_neoadj</th>\n",
       "      <th>m_after_neoadj</th>\n",
       "    </tr>\n",
       "  </thead>\n",
       "  <tbody>\n",
       "    <tr>\n",
       "      <th>0</th>\n",
       "      <td>6849</td>\n",
       "      <td>1</td>\n",
       "      <td>1</td>\n",
       "      <td>0.0</td>\n",
       "      <td>0.0</td>\n",
       "      <td>NaN</td>\n",
       "      <td>NaN</td>\n",
       "      <td>NaN</td>\n",
       "    </tr>\n",
       "    <tr>\n",
       "      <th>1</th>\n",
       "      <td>6849</td>\n",
       "      <td>3</td>\n",
       "      <td>2</td>\n",
       "      <td>0.0</td>\n",
       "      <td>0.0</td>\n",
       "      <td>NaN</td>\n",
       "      <td>NaN</td>\n",
       "      <td>NaN</td>\n",
       "    </tr>\n",
       "    <tr>\n",
       "      <th>2</th>\n",
       "      <td>268</td>\n",
       "      <td>1</td>\n",
       "      <td>1</td>\n",
       "      <td>0.0</td>\n",
       "      <td>0.0</td>\n",
       "      <td>NaN</td>\n",
       "      <td>NaN</td>\n",
       "      <td>NaN</td>\n",
       "    </tr>\n",
       "    <tr>\n",
       "      <th>3</th>\n",
       "      <td>268</td>\n",
       "      <td>2</td>\n",
       "      <td>1</td>\n",
       "      <td>1.0</td>\n",
       "      <td>0.0</td>\n",
       "      <td>NaN</td>\n",
       "      <td>NaN</td>\n",
       "      <td>NaN</td>\n",
       "    </tr>\n",
       "    <tr>\n",
       "      <th>4</th>\n",
       "      <td>268</td>\n",
       "      <td>3</td>\n",
       "      <td>2</td>\n",
       "      <td>0.0</td>\n",
       "      <td>0.0</td>\n",
       "      <td>NaN</td>\n",
       "      <td>NaN</td>\n",
       "      <td>NaN</td>\n",
       "    </tr>\n",
       "    <tr>\n",
       "      <th>...</th>\n",
       "      <td>...</td>\n",
       "      <td>...</td>\n",
       "      <td>...</td>\n",
       "      <td>...</td>\n",
       "      <td>...</td>\n",
       "      <td>...</td>\n",
       "      <td>...</td>\n",
       "      <td>...</td>\n",
       "    </tr>\n",
       "    <tr>\n",
       "      <th>24</th>\n",
       "      <td>6647</td>\n",
       "      <td>1</td>\n",
       "      <td>NaN</td>\n",
       "      <td>NaN</td>\n",
       "      <td>NaN</td>\n",
       "      <td>2.0</td>\n",
       "      <td>2.0</td>\n",
       "      <td>0.0</td>\n",
       "    </tr>\n",
       "    <tr>\n",
       "      <th>25</th>\n",
       "      <td>768</td>\n",
       "      <td>1</td>\n",
       "      <td>X</td>\n",
       "      <td>X</td>\n",
       "      <td>1.0</td>\n",
       "      <td>NaN</td>\n",
       "      <td>NaN</td>\n",
       "      <td>NaN</td>\n",
       "    </tr>\n",
       "    <tr>\n",
       "      <th>26</th>\n",
       "      <td>4534</td>\n",
       "      <td>1</td>\n",
       "      <td>2</td>\n",
       "      <td>0</td>\n",
       "      <td>0.0</td>\n",
       "      <td>NaN</td>\n",
       "      <td>NaN</td>\n",
       "      <td>NaN</td>\n",
       "    </tr>\n",
       "    <tr>\n",
       "      <th>27</th>\n",
       "      <td>7062</td>\n",
       "      <td>1</td>\n",
       "      <td>1</td>\n",
       "      <td>0</td>\n",
       "      <td>0.0</td>\n",
       "      <td>NaN</td>\n",
       "      <td>NaN</td>\n",
       "      <td>NaN</td>\n",
       "    </tr>\n",
       "    <tr>\n",
       "      <th>28</th>\n",
       "      <td>7066</td>\n",
       "      <td>1</td>\n",
       "      <td>0</td>\n",
       "      <td>2</td>\n",
       "      <td>0.0</td>\n",
       "      <td>1.0</td>\n",
       "      <td>1.0</td>\n",
       "      <td>0.0</td>\n",
       "    </tr>\n",
       "  </tbody>\n",
       "</table>\n",
       "<p>236 rows × 8 columns</p>\n",
       "</div>"
      ],
      "text/plain": [
       "     ehr  n_tumor    t    n    m t_after_neoadj  n_after_neoadj  \\\n",
       "0   6849        1    1  0.0  0.0            NaN             NaN   \n",
       "1   6849        3    2  0.0  0.0            NaN             NaN   \n",
       "2    268        1    1  0.0  0.0            NaN             NaN   \n",
       "3    268        2    1  1.0  0.0            NaN             NaN   \n",
       "4    268        3    2  0.0  0.0            NaN             NaN   \n",
       "..   ...      ...  ...  ...  ...            ...             ...   \n",
       "24  6647        1  NaN  NaN  NaN            2.0             2.0   \n",
       "25   768        1    X    X  1.0            NaN             NaN   \n",
       "26  4534        1    2    0  0.0            NaN             NaN   \n",
       "27  7062        1    1    0  0.0            NaN             NaN   \n",
       "28  7066        1    0    2  0.0            1.0             1.0   \n",
       "\n",
       "    m_after_neoadj  \n",
       "0              NaN  \n",
       "1              NaN  \n",
       "2              NaN  \n",
       "3              NaN  \n",
       "4              NaN  \n",
       "..             ...  \n",
       "24             0.0  \n",
       "25             NaN  \n",
       "26             NaN  \n",
       "27             NaN  \n",
       "28             0.0  \n",
       "\n",
       "[236 rows x 8 columns]"
      ]
     },
     "execution_count": 3,
     "metadata": {},
     "output_type": "execute_result"
    }
   ],
   "source": [
    "# concatenate the two datasets\n",
    "data_tnm = pd.concat([tnm1, tnm2])\n",
    "data_tnm"
   ]
  },
  {
   "cell_type": "code",
   "execution_count": 4,
   "metadata": {},
   "outputs": [
    {
     "name": "stdout",
     "output_type": "stream",
     "text": [
      "t ['1' '2' '0' 'IS' nan '3' '4' 'X']\n",
      "n [0.0 1.0 2.0 3.0 nan '1' '2' '0' '3' 'X']\n",
      "t_after_neoadj [nan '1' '0' '3' '2' 'IS' 1.0 2.0 0.0]\n"
     ]
    }
   ],
   "source": [
    "cat = (data_tnm.dtypes == object)\n",
    "cat_cols = data_tnm.columns[cat].tolist()\n",
    "\n",
    "for column in cat_cols:\n",
    "  print(column, data_tnm[column].unique())"
   ]
  },
  {
   "cell_type": "markdown",
   "metadata": {},
   "source": [
    "### NULL values"
   ]
  },
  {
   "cell_type": "code",
   "execution_count": 5,
   "metadata": {},
   "outputs": [
    {
     "name": "stdout",
     "output_type": "stream",
     "text": [
      "ehr                 0\n",
      "n_tumor             0\n",
      "t                   4\n",
      "n                   6\n",
      "m                   4\n",
      "t_after_neoadj    204\n",
      "n_after_neoadj    204\n",
      "m_after_neoadj    204\n",
      "dtype: int64\n",
      "<class 'pandas.core.frame.DataFrame'>\n",
      "Int64Index: 236 entries, 0 to 28\n",
      "Data columns (total 8 columns):\n",
      " #   Column          Non-Null Count  Dtype  \n",
      "---  ------          --------------  -----  \n",
      " 0   ehr             236 non-null    int64  \n",
      " 1   n_tumor         236 non-null    int64  \n",
      " 2   t               232 non-null    object \n",
      " 3   n               230 non-null    object \n",
      " 4   m               232 non-null    float64\n",
      " 5   t_after_neoadj  32 non-null     object \n",
      " 6   n_after_neoadj  32 non-null     float64\n",
      " 7   m_after_neoadj  32 non-null     float64\n",
      "dtypes: float64(3), int64(2), object(3)\n",
      "memory usage: 16.6+ KB\n"
     ]
    }
   ],
   "source": [
    "print(data_tnm.isnull().sum())\n",
    "data_tnm.info()"
   ]
  },
  {
   "cell_type": "code",
   "execution_count": 6,
   "metadata": {},
   "outputs": [],
   "source": [
    "data_temp = data_tnm.copy()"
   ]
  },
  {
   "cell_type": "code",
   "execution_count": 7,
   "metadata": {},
   "outputs": [],
   "source": [
    "data_tnm['t'] = 'T' + (data_tnm['t']\n",
    "    .fillna(9)\n",
    "    .astype(str)\n",
    "    .replace('\\.0', '', regex=True))\n",
    "data_tnm['n'] = 'N' + (data_tnm['n']\n",
    "    .fillna(9)\n",
    "    .astype(str)\n",
    "    .replace('\\.0', '', regex=True))\n",
    "data_tnm['m'] = 'M' + (data_tnm['m']\n",
    "    .fillna(9)\n",
    "    .astype(str)\n",
    "    .replace('\\.0', '', regex=True))\n",
    "\n",
    "data_tnm['t_after_neoadj'] = 'T' + (data_tnm['t_after_neoadj']\n",
    "    .fillna(9)\n",
    "    .astype(str)\n",
    "    .replace('\\.0', '', regex=True))\n",
    "data_tnm['n_after_neoadj'] = 'N' + (data_tnm['n_after_neoadj']\n",
    "    .fillna(9)\n",
    "    .astype(str)\n",
    "    .replace('\\.0', '', regex=True))\n",
    "data_tnm['m_after_neoadj'] = 'M' + (data_tnm['m_after_neoadj']\n",
    "    .fillna(9)\n",
    "    .astype(str)\n",
    "    .replace('\\.0', '', regex=True))"
   ]
  },
  {
   "cell_type": "code",
   "execution_count": null,
   "metadata": {},
   "outputs": [],
   "source": [
    "# data_tnm['t'] = data_tnm['t'].fillna('X')\n",
    "# data_tnm['n'] = pd.to_numeric(data_tnm['n'], errors='coerce', downcast='integer').fillna('X')\n",
    "# data_tnm['m'] = pd.to_numeric(data_tnm['m'], errors='coerce', downcast='integer').fillna('X')\n",
    "# # data_tnm['t_after_neoadj'] = pd.to_numeric(data_tnm['t_after_neoadj'], errors='ignore', downcast='integer')\n",
    "# data_tnm['n_after_neoadj'] = pd.to_numeric(data_tnm['n_after_neoadj'], errors='coerce', downcast='integer').fillna('X')\n",
    "# # data_tnm['m_after_neoadj'] = pd.to_numeric(data_tnm['m_after_neoadj'], errors='coerce', downcast='integer').fillna('X')"
   ]
  },
  {
   "cell_type": "code",
   "execution_count": null,
   "metadata": {},
   "outputs": [],
   "source": [
    "# data_tnm['t_after_neoadj'].fillna('X', inplace=True)\n",
    "# data_tnm['m_after_neoadj'] = data_tnm['m_after_neoadj'].astype('object').fillna('X')\n",
    "# data_tnm['n_after_neoadj'] = data_tnm['n_after_neoadj'].astype('object').fillna('X')\n",
    "data_tnm\n",
    "# to_numeric()"
   ]
  },
  {
   "cell_type": "code",
   "execution_count": null,
   "metadata": {},
   "outputs": [],
   "source": [
    "print(data_tnm.info())\n",
    "data_tnm.isnull().sum()"
   ]
  },
  {
   "cell_type": "code",
   "execution_count": null,
   "metadata": {},
   "outputs": [],
   "source": [
    "# Users can be duplicated for diff tumor types\n",
    "data_tnm[data_tnm.ehr.duplicated(keep=False)]"
   ]
  },
  {
   "cell_type": "code",
   "execution_count": null,
   "metadata": {},
   "outputs": [],
   "source": [
    "cat = (data_tnm.dtypes == object)\n",
    "cat_cols = data_tnm.columns[cat].tolist()\n",
    "\n",
    "for column in cat_cols:\n",
    "  print(column, data_tnm[column].unique())"
   ]
  },
  {
   "cell_type": "code",
   "execution_count": 8,
   "metadata": {},
   "outputs": [
    {
     "data": {
      "text/plain": [
       "t    t_after_neoadj\n",
       "TIS  T9                16\n",
       "dtype: int64"
      ]
     },
     "execution_count": 8,
     "metadata": {},
     "output_type": "execute_result"
    }
   ],
   "source": [
    "data_tnm.loc[data_tnm.t.eq(\"TIS\"), ['t', 't_after_neoadj']].value_counts(dropna=False)"
   ]
  },
  {
   "cell_type": "code",
   "execution_count": null,
   "metadata": {},
   "outputs": [],
   "source": [
    "len(data_tnm['ehr'].unique())"
   ]
  },
  {
   "cell_type": "code",
   "execution_count": null,
   "metadata": {},
   "outputs": [],
   "source": [
    "data_tnm['t'].value_counts()"
   ]
  },
  {
   "cell_type": "code",
   "execution_count": null,
   "metadata": {},
   "outputs": [],
   "source": [
    "data_tnm['t_after_neoadj'].value_counts()"
   ]
  },
  {
   "cell_type": "code",
   "execution_count": null,
   "metadata": {},
   "outputs": [],
   "source": [
    "# data_tnm['t_old'] = data_temp['t'].copy()\n",
    "# data_tnm['n_old'] = data_temp['n'].copy().astype(str)\n",
    "# data_tnm['m_old'] = data_temp['m'].copy()\n",
    "# data_tnm['t_after_neoadj_old'] = data_temp['t_after_neoadj'].copy().astype(str)\n",
    "# data_tnm['n_after_neoadj_old'] = data_temp['n_after_neoadj'].copy().astype(str)\n",
    "# data_tnm['m_after_neoadj_old'] = data_temp['m_after_neoadj'].copy()"
   ]
  },
  {
   "cell_type": "code",
   "execution_count": 9,
   "metadata": {},
   "outputs": [],
   "source": [
    "data_tnm.to_parquet(STAGE_DIR / 'tnm-preprocessed-v1.parquet')"
   ]
  }
 ],
 "metadata": {
  "kernelspec": {
   "display_name": "data-process",
   "language": "python",
   "name": "python3"
  },
  "language_info": {
   "codemirror_mode": {
    "name": "ipython",
    "version": 3
   },
   "file_extension": ".py",
   "mimetype": "text/x-python",
   "name": "python",
   "nbconvert_exporter": "python",
   "pygments_lexer": "ipython3",
   "version": "3.10.8"
  },
  "orig_nbformat": 4,
  "vscode": {
   "interpreter": {
    "hash": "d7caac3c13166b51166462c78fd3a0f48ae424f75ecdaa75fab4d4748ca1b6a3"
   }
  }
 },
 "nbformat": 4,
 "nbformat_minor": 2
}
