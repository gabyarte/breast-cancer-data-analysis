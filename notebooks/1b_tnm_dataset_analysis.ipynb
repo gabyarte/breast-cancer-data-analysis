{
 "cells": [
  {
   "cell_type": "code",
   "execution_count": 23,
   "metadata": {},
   "outputs": [],
   "source": [
    "# import libraries\n",
    "import pandas as pd\n",
    "import numpy as np\n",
    "import matplotlib.pyplot as plt\n",
    "import seaborn as sns\n",
    "\n",
    "from paths import RAW_DIR, STAGE_DIR"
   ]
  },
  {
   "cell_type": "markdown",
   "metadata": {},
   "source": [
    "### Import the data"
   ]
  },
  {
   "cell_type": "code",
   "execution_count": 11,
   "metadata": {},
   "outputs": [],
   "source": [
    "tnm1 = pd.read_csv(RAW_DIR / \"breast_cancer_data_tnm.csv\")\n",
    "tnm2 = pd.read_csv(RAW_DIR / \"breast_cancer_data_tnm_2.csv\")"
   ]
  },
  {
   "cell_type": "code",
   "execution_count": 12,
   "metadata": {},
   "outputs": [
    {
     "data": {
      "text/html": [
       "<div>\n",
       "<style scoped>\n",
       "    .dataframe tbody tr th:only-of-type {\n",
       "        vertical-align: middle;\n",
       "    }\n",
       "\n",
       "    .dataframe tbody tr th {\n",
       "        vertical-align: top;\n",
       "    }\n",
       "\n",
       "    .dataframe thead th {\n",
       "        text-align: right;\n",
       "    }\n",
       "</style>\n",
       "<table border=\"1\" class=\"dataframe\">\n",
       "  <thead>\n",
       "    <tr style=\"text-align: right;\">\n",
       "      <th></th>\n",
       "      <th>ehr</th>\n",
       "      <th>n_tumor</th>\n",
       "      <th>t</th>\n",
       "      <th>n</th>\n",
       "      <th>m</th>\n",
       "      <th>t_after_neoadj</th>\n",
       "      <th>n_after_neoadj</th>\n",
       "      <th>m_after_neoadj</th>\n",
       "    </tr>\n",
       "  </thead>\n",
       "  <tbody>\n",
       "    <tr>\n",
       "      <th>0</th>\n",
       "      <td>6849</td>\n",
       "      <td>1</td>\n",
       "      <td>1</td>\n",
       "      <td>0.0</td>\n",
       "      <td>0.0</td>\n",
       "      <td>NaN</td>\n",
       "      <td>NaN</td>\n",
       "      <td>NaN</td>\n",
       "    </tr>\n",
       "    <tr>\n",
       "      <th>1</th>\n",
       "      <td>6849</td>\n",
       "      <td>3</td>\n",
       "      <td>2</td>\n",
       "      <td>0.0</td>\n",
       "      <td>0.0</td>\n",
       "      <td>NaN</td>\n",
       "      <td>NaN</td>\n",
       "      <td>NaN</td>\n",
       "    </tr>\n",
       "    <tr>\n",
       "      <th>2</th>\n",
       "      <td>268</td>\n",
       "      <td>1</td>\n",
       "      <td>1</td>\n",
       "      <td>0.0</td>\n",
       "      <td>0.0</td>\n",
       "      <td>NaN</td>\n",
       "      <td>NaN</td>\n",
       "      <td>NaN</td>\n",
       "    </tr>\n",
       "    <tr>\n",
       "      <th>3</th>\n",
       "      <td>268</td>\n",
       "      <td>2</td>\n",
       "      <td>1</td>\n",
       "      <td>1.0</td>\n",
       "      <td>0.0</td>\n",
       "      <td>NaN</td>\n",
       "      <td>NaN</td>\n",
       "      <td>NaN</td>\n",
       "    </tr>\n",
       "    <tr>\n",
       "      <th>4</th>\n",
       "      <td>268</td>\n",
       "      <td>3</td>\n",
       "      <td>2</td>\n",
       "      <td>0.0</td>\n",
       "      <td>0.0</td>\n",
       "      <td>NaN</td>\n",
       "      <td>NaN</td>\n",
       "      <td>NaN</td>\n",
       "    </tr>\n",
       "    <tr>\n",
       "      <th>...</th>\n",
       "      <td>...</td>\n",
       "      <td>...</td>\n",
       "      <td>...</td>\n",
       "      <td>...</td>\n",
       "      <td>...</td>\n",
       "      <td>...</td>\n",
       "      <td>...</td>\n",
       "      <td>...</td>\n",
       "    </tr>\n",
       "    <tr>\n",
       "      <th>24</th>\n",
       "      <td>6647</td>\n",
       "      <td>1</td>\n",
       "      <td>NaN</td>\n",
       "      <td>NaN</td>\n",
       "      <td>NaN</td>\n",
       "      <td>2.0</td>\n",
       "      <td>2.0</td>\n",
       "      <td>0.0</td>\n",
       "    </tr>\n",
       "    <tr>\n",
       "      <th>25</th>\n",
       "      <td>768</td>\n",
       "      <td>1</td>\n",
       "      <td>X</td>\n",
       "      <td>X</td>\n",
       "      <td>1.0</td>\n",
       "      <td>NaN</td>\n",
       "      <td>NaN</td>\n",
       "      <td>NaN</td>\n",
       "    </tr>\n",
       "    <tr>\n",
       "      <th>26</th>\n",
       "      <td>4534</td>\n",
       "      <td>1</td>\n",
       "      <td>2</td>\n",
       "      <td>0</td>\n",
       "      <td>0.0</td>\n",
       "      <td>NaN</td>\n",
       "      <td>NaN</td>\n",
       "      <td>NaN</td>\n",
       "    </tr>\n",
       "    <tr>\n",
       "      <th>27</th>\n",
       "      <td>7062</td>\n",
       "      <td>1</td>\n",
       "      <td>1</td>\n",
       "      <td>0</td>\n",
       "      <td>0.0</td>\n",
       "      <td>NaN</td>\n",
       "      <td>NaN</td>\n",
       "      <td>NaN</td>\n",
       "    </tr>\n",
       "    <tr>\n",
       "      <th>28</th>\n",
       "      <td>7066</td>\n",
       "      <td>1</td>\n",
       "      <td>0</td>\n",
       "      <td>2</td>\n",
       "      <td>0.0</td>\n",
       "      <td>1.0</td>\n",
       "      <td>1.0</td>\n",
       "      <td>0.0</td>\n",
       "    </tr>\n",
       "  </tbody>\n",
       "</table>\n",
       "<p>236 rows × 8 columns</p>\n",
       "</div>"
      ],
      "text/plain": [
       "     ehr  n_tumor    t    n    m t_after_neoadj  n_after_neoadj  \\\n",
       "0   6849        1    1  0.0  0.0            NaN             NaN   \n",
       "1   6849        3    2  0.0  0.0            NaN             NaN   \n",
       "2    268        1    1  0.0  0.0            NaN             NaN   \n",
       "3    268        2    1  1.0  0.0            NaN             NaN   \n",
       "4    268        3    2  0.0  0.0            NaN             NaN   \n",
       "..   ...      ...  ...  ...  ...            ...             ...   \n",
       "24  6647        1  NaN  NaN  NaN            2.0             2.0   \n",
       "25   768        1    X    X  1.0            NaN             NaN   \n",
       "26  4534        1    2    0  0.0            NaN             NaN   \n",
       "27  7062        1    1    0  0.0            NaN             NaN   \n",
       "28  7066        1    0    2  0.0            1.0             1.0   \n",
       "\n",
       "    m_after_neoadj  \n",
       "0              NaN  \n",
       "1              NaN  \n",
       "2              NaN  \n",
       "3              NaN  \n",
       "4              NaN  \n",
       "..             ...  \n",
       "24             0.0  \n",
       "25             NaN  \n",
       "26             NaN  \n",
       "27             NaN  \n",
       "28             0.0  \n",
       "\n",
       "[236 rows x 8 columns]"
      ]
     },
     "execution_count": 12,
     "metadata": {},
     "output_type": "execute_result"
    }
   ],
   "source": [
    "# concatenate the two datasets\n",
    "data_tnm = pd.concat([tnm1, tnm2])\n",
    "data_tnm"
   ]
  },
  {
   "cell_type": "code",
   "execution_count": 13,
   "metadata": {},
   "outputs": [
    {
     "name": "stdout",
     "output_type": "stream",
     "text": [
      "t ['1' '2' '0' 'IS' nan '3' '4' 'X']\n",
      "n [0.0 1.0 2.0 3.0 nan '1' '2' '0' '3' 'X']\n",
      "t_after_neoadj [nan '1' '0' '3' '2' 'IS' 1.0 2.0 0.0]\n"
     ]
    }
   ],
   "source": [
    "cat = (data_tnm.dtypes == object)\n",
    "cat_cols = data_tnm.columns[cat].tolist()\n",
    "\n",
    "for column in cat_cols:\n",
    "  print(column, data_tnm[column].unique())"
   ]
  },
  {
   "cell_type": "markdown",
   "metadata": {},
   "source": [
    "### NULL values"
   ]
  },
  {
   "cell_type": "code",
   "execution_count": 14,
   "metadata": {},
   "outputs": [
    {
     "name": "stdout",
     "output_type": "stream",
     "text": [
      "ehr                 0\n",
      "n_tumor             0\n",
      "t                   4\n",
      "n                   6\n",
      "m                   4\n",
      "t_after_neoadj    204\n",
      "n_after_neoadj    204\n",
      "m_after_neoadj    204\n",
      "dtype: int64\n",
      "<class 'pandas.core.frame.DataFrame'>\n",
      "Int64Index: 236 entries, 0 to 28\n",
      "Data columns (total 8 columns):\n",
      " #   Column          Non-Null Count  Dtype  \n",
      "---  ------          --------------  -----  \n",
      " 0   ehr             236 non-null    int64  \n",
      " 1   n_tumor         236 non-null    int64  \n",
      " 2   t               232 non-null    object \n",
      " 3   n               230 non-null    object \n",
      " 4   m               232 non-null    float64\n",
      " 5   t_after_neoadj  32 non-null     object \n",
      " 6   n_after_neoadj  32 non-null     float64\n",
      " 7   m_after_neoadj  32 non-null     float64\n",
      "dtypes: float64(3), int64(2), object(3)\n",
      "memory usage: 16.6+ KB\n"
     ]
    }
   ],
   "source": [
    "print(data_tnm.isnull().sum())\n",
    "data_tnm.info()"
   ]
  },
  {
   "cell_type": "code",
   "execution_count": 15,
   "metadata": {},
   "outputs": [],
   "source": [
    "data_tnm['t'] = 'T' + (data_tnm['t']\n",
    "    .fillna(9)\n",
    "    .astype(str)\n",
    "    .replace('\\.0', '', regex=True))\n",
    "data_tnm['n'] = 'N' + (data_tnm['n']\n",
    "    .fillna(9)\n",
    "    .astype(str)\n",
    "    .replace('\\.0', '', regex=True))\n",
    "data_tnm['m'] = 'M' + (data_tnm['m']\n",
    "    .fillna(9)\n",
    "    .astype(str)\n",
    "    .replace('\\.0', '', regex=True))\n",
    "\n",
    "data_tnm['t_after_neoadj'] = 'T' + (data_tnm['t_after_neoadj']\n",
    "    .fillna(9)\n",
    "    .astype(str)\n",
    "    .replace('\\.0', '', regex=True))\n",
    "data_tnm['n_after_neoadj'] = 'N' + (data_tnm['n_after_neoadj']\n",
    "    .fillna(9)\n",
    "    .astype(str)\n",
    "    .replace('\\.0', '', regex=True))\n",
    "data_tnm['m_after_neoadj'] = 'M' + (data_tnm['m_after_neoadj']\n",
    "    .fillna(9)\n",
    "    .astype(str)\n",
    "    .replace('\\.0', '', regex=True))"
   ]
  },
  {
   "cell_type": "code",
   "execution_count": 16,
   "metadata": {},
   "outputs": [
    {
     "data": {
      "text/html": [
       "<div>\n",
       "<style scoped>\n",
       "    .dataframe tbody tr th:only-of-type {\n",
       "        vertical-align: middle;\n",
       "    }\n",
       "\n",
       "    .dataframe tbody tr th {\n",
       "        vertical-align: top;\n",
       "    }\n",
       "\n",
       "    .dataframe thead th {\n",
       "        text-align: right;\n",
       "    }\n",
       "</style>\n",
       "<table border=\"1\" class=\"dataframe\">\n",
       "  <thead>\n",
       "    <tr style=\"text-align: right;\">\n",
       "      <th></th>\n",
       "      <th>ehr</th>\n",
       "      <th>n_tumor</th>\n",
       "      <th>t</th>\n",
       "      <th>n</th>\n",
       "      <th>m</th>\n",
       "      <th>t_after_neoadj</th>\n",
       "      <th>n_after_neoadj</th>\n",
       "      <th>m_after_neoadj</th>\n",
       "    </tr>\n",
       "  </thead>\n",
       "  <tbody>\n",
       "    <tr>\n",
       "      <th>0</th>\n",
       "      <td>6849</td>\n",
       "      <td>1</td>\n",
       "      <td>T1</td>\n",
       "      <td>N0</td>\n",
       "      <td>M0</td>\n",
       "      <td>T9</td>\n",
       "      <td>N9</td>\n",
       "      <td>M9</td>\n",
       "    </tr>\n",
       "    <tr>\n",
       "      <th>1</th>\n",
       "      <td>6849</td>\n",
       "      <td>3</td>\n",
       "      <td>T2</td>\n",
       "      <td>N0</td>\n",
       "      <td>M0</td>\n",
       "      <td>T9</td>\n",
       "      <td>N9</td>\n",
       "      <td>M9</td>\n",
       "    </tr>\n",
       "    <tr>\n",
       "      <th>2</th>\n",
       "      <td>268</td>\n",
       "      <td>1</td>\n",
       "      <td>T1</td>\n",
       "      <td>N0</td>\n",
       "      <td>M0</td>\n",
       "      <td>T9</td>\n",
       "      <td>N9</td>\n",
       "      <td>M9</td>\n",
       "    </tr>\n",
       "    <tr>\n",
       "      <th>3</th>\n",
       "      <td>268</td>\n",
       "      <td>2</td>\n",
       "      <td>T1</td>\n",
       "      <td>N1</td>\n",
       "      <td>M0</td>\n",
       "      <td>T9</td>\n",
       "      <td>N9</td>\n",
       "      <td>M9</td>\n",
       "    </tr>\n",
       "    <tr>\n",
       "      <th>4</th>\n",
       "      <td>268</td>\n",
       "      <td>3</td>\n",
       "      <td>T2</td>\n",
       "      <td>N0</td>\n",
       "      <td>M0</td>\n",
       "      <td>T9</td>\n",
       "      <td>N9</td>\n",
       "      <td>M9</td>\n",
       "    </tr>\n",
       "  </tbody>\n",
       "</table>\n",
       "</div>"
      ],
      "text/plain": [
       "    ehr  n_tumor   t   n   m t_after_neoadj n_after_neoadj m_after_neoadj\n",
       "0  6849        1  T1  N0  M0             T9             N9             M9\n",
       "1  6849        3  T2  N0  M0             T9             N9             M9\n",
       "2   268        1  T1  N0  M0             T9             N9             M9\n",
       "3   268        2  T1  N1  M0             T9             N9             M9\n",
       "4   268        3  T2  N0  M0             T9             N9             M9"
      ]
     },
     "execution_count": 16,
     "metadata": {},
     "output_type": "execute_result"
    }
   ],
   "source": [
    "# Users can be duplicated for diff tumor types\n",
    "data_tnm[data_tnm.ehr.duplicated(keep=False)]"
   ]
  },
  {
   "cell_type": "code",
   "execution_count": 17,
   "metadata": {},
   "outputs": [
    {
     "data": {
      "text/plain": [
       "t    t_after_neoadj\n",
       "TIS  T9                16\n",
       "dtype: int64"
      ]
     },
     "execution_count": 17,
     "metadata": {},
     "output_type": "execute_result"
    }
   ],
   "source": [
    "data_tnm.loc[data_tnm.t.eq(\"TIS\"), ['t', 't_after_neoadj']].value_counts(dropna=False)"
   ]
  },
  {
   "cell_type": "code",
   "execution_count": 18,
   "metadata": {},
   "outputs": [
    {
     "data": {
      "text/plain": [
       "233"
      ]
     },
     "execution_count": 18,
     "metadata": {},
     "output_type": "execute_result"
    }
   ],
   "source": [
    "len(data_tnm['ehr'].unique())"
   ]
  },
  {
   "cell_type": "code",
   "execution_count": 19,
   "metadata": {},
   "outputs": [
    {
     "data": {
      "text/plain": [
       "T1     106\n",
       "T2      54\n",
       "T0      37\n",
       "TIS     16\n",
       "T3      11\n",
       "T4       7\n",
       "T9       4\n",
       "TX       1\n",
       "Name: t, dtype: int64"
      ]
     },
     "execution_count": 19,
     "metadata": {},
     "output_type": "execute_result"
    }
   ],
   "source": [
    "data_tnm['t'].value_counts()"
   ]
  },
  {
   "cell_type": "code",
   "execution_count": 20,
   "metadata": {},
   "outputs": [
    {
     "data": {
      "text/plain": [
       "T9     204\n",
       "T1      17\n",
       "T2       7\n",
       "T0       6\n",
       "T3       1\n",
       "TIS      1\n",
       "Name: t_after_neoadj, dtype: int64"
      ]
     },
     "execution_count": 20,
     "metadata": {},
     "output_type": "execute_result"
    }
   ],
   "source": [
    "data_tnm['t_after_neoadj'].value_counts()"
   ]
  },
  {
   "cell_type": "code",
   "execution_count": 21,
   "metadata": {},
   "outputs": [
    {
     "name": "stdout",
     "output_type": "stream",
     "text": [
      "T 235 N 235 M 236\n"
     ]
    }
   ],
   "source": [
    "# Take only data from patients with info before and after treatment\n",
    "t_before_after = data_tnm.loc[(data_tnm.t != \"TX\") & (data_tnm.t_after_neoadj != \"TX\"), ['t', 't_after_neoadj']]\n",
    "n_before_after = data_tnm.loc[(data_tnm.n != \"NX\") & (data_tnm.n_after_neoadj != \"NX\"), ['n', 'n_after_neoadj']]\n",
    "m_before_after = data_tnm.loc[(data_tnm.m != \"MX\") & (data_tnm.m_after_neoadj != \"MX\"), ['m', 'm_after_neoadj']]\n",
    "print(\n",
    "  'T', len(t_before_after),\n",
    "  'N',len(n_before_after),\n",
    "  'M',len(m_before_after)\n",
    "  )"
   ]
  },
  {
   "cell_type": "code",
   "execution_count": 24,
   "metadata": {},
   "outputs": [
    {
     "data": {
      "text/plain": [
       "Text(0.5, 1.0, 'M')"
      ]
     },
     "execution_count": 24,
     "metadata": {},
     "output_type": "execute_result"
    },
    {
     "data": {
      "image/png": "[encoded data removed]",
      "text/plain": [
       "<Figure size 1500x500 with 3 Axes>"
      ]
     },
     "metadata": {},
     "output_type": "display_data"
    }
   ],
   "source": [
    "# Show the effect of neoadjuvance\n",
    "fig, axes = plt.subplots(1, 3, figsize=(15, 5))\n",
    "\n",
    "sns.countplot(ax=axes[0], data=pd.melt(t_before_after), x='value', hue='variable')\n",
    "axes[0].set(xlabel='Stage')\n",
    "axes[0].set(ylabel='Patients')\n",
    "axes[0].set_title('T')\n",
    "\n",
    "sns.countplot(ax=axes[1], data=pd.melt(n_before_after), x='value', hue='variable')\n",
    "axes[1].set(xlabel='Stage')\n",
    "axes[1].set(ylabel='Patients')\n",
    "axes[1].set_title('N')\n",
    "\n",
    "sns.countplot(ax=axes[2], data=pd.melt(m_before_after), x='value', hue='variable')\n",
    "axes[2].set(xlabel='Stage')\n",
    "axes[2].set(ylabel='Patients')\n",
    "axes[2].set_title('M')"
   ]
  },
  {
   "cell_type": "code",
   "execution_count": 9,
   "metadata": {},
   "outputs": [],
   "source": [
    "data_tnm.to_parquet(STAGE_DIR / 'tnm-preprocessed-v1.parquet')"
   ]
  }
 ],
 "metadata": {
  "kernelspec": {
   "display_name": "data-process",
   "language": "python",
   "name": "python3"
  },
  "language_info": {
   "codemirror_mode": {
    "name": "ipython",
    "version": 3
   },
   "file_extension": ".py",
   "mimetype": "text/x-python",
   "name": "python",
   "nbconvert_exporter": "python",
   "pygments_lexer": "ipython3",
   "version": "3.10.8"
  },
  "orig_nbformat": 4,
  "vscode": {
   "interpreter": {
    "hash": "d7caac3c13166b51166462c78fd3a0f48ae424f75ecdaa75fab4d4748ca1b6a3"
   }
  }
 },
 "nbformat": 4,
 "nbformat_minor": 2
}
