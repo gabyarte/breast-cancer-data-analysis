{
 "cells": [
  {
   "cell_type": "code",
   "execution_count": null,
   "metadata": {},
   "outputs": [],
   "source": [
    "# import libraries\n",
    "import pandas as pd\n",
    "import numpy as np\n",
    "import datetime as dt\n",
    "\n",
    "from sklearn.impute import SimpleImputer\n",
    "\n",
    "from paths import RAW_DIR"
   ]
  },
  {
   "cell_type": "code",
   "execution_count": null,
   "metadata": {},
   "outputs": [],
   "source": [
    "# functions\n",
    "\n",
    "def add_col(data, to_add, to_remove):\n",
    "    \n",
    "    data[to_add] = np.where(data[to_remove].isna(), 0, 1)\n",
    "    \n",
    "    data = data.drop([to_remove], axis=1)\n",
    "    return data\n",
    "\n",
    "def replace_nan_1cond(data, feat1, val1, col_to_replace, val_to_replace_with):\n",
    "    data.loc[(data[feat1] == val1), \n",
    "             col_to_replace] = val_to_replace_with\n",
    "    return data\n",
    "\n",
    "def replace_nan_2cond(data, feat1, feat2, val1, val2, col_to_replace, val_to_replace_with):\n",
    "    data.loc[(data[feat1] == val1) & (data[feat2] == val2), \n",
    "             col_to_replace] = val_to_replace_with\n",
    "    return data"
   ]
  },
  {
   "cell_type": "markdown",
   "metadata": {},
   "source": [
    "### Import the data"
   ]
  },
  {
   "cell_type": "code",
   "execution_count": null,
   "metadata": {},
   "outputs": [],
   "source": [
    "df1 = pd.read_excel(RAW_DIR / \"breast_cancer_data.xlsx\")\n",
    "df2 = pd.read_excel(RAW_DIR / \"breast_cancer_data_2.xlsx\")\n",
    "\n",
    "# concatenate the two datasets\n",
    "data = pd.concat([df1, df2]).set_index('ehr')\n",
    "data.head(20)"
   ]
  },
  {
   "cell_type": "markdown",
   "metadata": {},
   "source": [
    "### Creating new columns"
   ]
  },
  {
   "cell_type": "code",
   "execution_count": null,
   "metadata": {},
   "outputs": [],
   "source": [
    "data['age']= np.where(data['death_date'].isna(),\n",
    "                      (dt.datetime.today()-pd.to_datetime(data['birth_date'])).astype('timedelta64[Y]'),\n",
    "                      (pd.to_datetime(data['death_date'])-pd.to_datetime(data['birth_date'])).astype('timedelta64[Y]'))"
   ]
  },
  {
   "cell_type": "code",
   "execution_count": null,
   "metadata": {},
   "outputs": [],
   "source": [
    "data['years_from_diagnosis']=(dt.datetime.today()\\\n",
    "            -pd.to_datetime(data['diagnosis_date'])).astype('timedelta64[Y]')"
   ]
  },
  {
   "cell_type": "code",
   "execution_count": null,
   "metadata": {},
   "outputs": [],
   "source": [
    "data = add_col(data, 'dead', 'death_date')\n",
    "data = add_col(data, 'recurrence', 'recurrence_year')\n",
    "data = add_col(data, 'menopause', 'menopause_age')"
   ]
  },
  {
   "cell_type": "markdown",
   "metadata": {},
   "source": [
    "### Drop columns"
   ]
  },
  {
   "cell_type": "code",
   "execution_count": null,
   "metadata": {},
   "outputs": [],
   "source": [
    "data.isnull().sum()"
   ]
  },
  {
   "cell_type": "code",
   "execution_count": null,
   "metadata": {},
   "outputs": [],
   "source": [
    "# drop birth_date, diagnosis_date, Unnamed: 0 (not useful) and side & caesarean (more than 200 null)\n",
    "data = data.drop(['Unnamed: 0',\n",
    "                  'birth_date',\n",
    "                  'diagnosis_date',\n",
    "                  'caesarean',\n",
    "                  'side'], axis=1)\n",
    "data.head(20)"
   ]
  },
  {
   "cell_type": "code",
   "execution_count": null,
   "metadata": {},
   "outputs": [],
   "source": [
    "data.info()"
   ]
  },
  {
   "cell_type": "markdown",
   "metadata": {},
   "source": [
    "### Data Visualization"
   ]
  },
  {
   "cell_type": "code",
   "execution_count": null,
   "metadata": {},
   "outputs": [],
   "source": [
    "fig, axes = plt.subplots(1, 3, figsize=(14, 4))\n",
    "\n",
    "sns.countplot(ax=axes[0], data=data, x=\"grade\", hue=\"neoadjuvant\", palette=\"RdPu\")\n",
    "axes[0].set(xlabel=None)\n",
    "axes[0].set_title('Grade')\n",
    "\n",
    "sns.countplot(ax=axes[1], data=data, x=\"hist_type\", hue=\"neoadjuvant\", palette=\"RdPu\")\n",
    "axes[1].set(xlabel=None)\n",
    "axes[1].set_title('Histological Type')\n",
    "\n",
    "sns.countplot(ax=axes[2], data=data, x=\"recurrence\", hue=\"neoadjuvant\", palette=\"RdPu\")\n",
    "axes[2].set(xlabel=None)\n",
    "axes[2].set_title('Recurrence')"
   ]
  },
  {
   "cell_type": "code",
   "execution_count": null,
   "metadata": {},
   "outputs": [],
   "source": [
    "fig, axes = plt.subplots(1, 3, figsize=(14, 4))\n",
    "\n",
    "sns.violinplot(ax=axes[0], data=data, x=\"recurrence\", y=\"ki67\", hue=\"neoadjuvant\", split=True, palette=\"Paired\")\n",
    "axes[0].set_title('Distribution of ki67')\n",
    "\n",
    "sns.violinplot(ax=axes[1], data=data, x=\"recurrence\", y=\"age\", hue=\"neoadjuvant\", split=True, palette=\"Paired\")\n",
    "axes[1].set_title('Distribution of Age')\n",
    "\n",
    "sns.violinplot(ax=axes[2], data=data, x=\"recurrence\", y=\"years_from_diagnosis\", hue=\"neoadjuvant\", split=True, palette=\"Paired\")\n",
    "axes[2].set_title('Distribution of years_from_diagnosis')"
   ]
  },
  {
   "cell_type": "markdown",
   "metadata": {},
   "source": [
    "### Map values and replace with most frequent"
   ]
  },
  {
   "cell_type": "code",
   "execution_count": null,
   "metadata": {},
   "outputs": [],
   "source": [
    "# checking the values of all the features using value counts\n",
    "categoricals = ['neoadjuvant', 'hist_type']\n",
    "\n",
    "for feature in categoricals:\n",
    "    print(f\"Values Counts for [{feature}]\")\n",
    "    print(data[feature].value_counts())\n",
    "    print(\"\\n\")"
   ]
  },
  {
   "cell_type": "code",
   "execution_count": null,
   "metadata": {},
   "outputs": [],
   "source": [
    "# 1 null value in neoadjuvant: probably is going to be solved when merging with the other dataset\n",
    "data['neoadjuvant'] = data['neoadjuvant'].replace({'no': 0, 'yes': 1})\n",
    "data['neoadjuvant'].value_counts()"
   ]
  },
  {
   "cell_type": "code",
   "execution_count": null,
   "metadata": {},
   "outputs": [],
   "source": [
    "ordinal_col = ['hist_type']\n",
    "data_dum = pd.get_dummies(data, columns = ordinal_col)"
   ]
  },
  {
   "cell_type": "code",
   "execution_count": null,
   "metadata": {},
   "outputs": [],
   "source": [
    "# replace with most frequent value\n",
    "for column in [\n",
    "    #'neoadjuvant',   ### only 1 nan, maybe we find the true value with the merging\n",
    "    'grade', 'invasive', 'er_positive', 'pr_positive', 'her2_positive', 'ki67', 'menarche_age']:\n",
    "    data_dum[column].fillna(data_dum[column].mode()[0], inplace=True)"
   ]
  },
  {
   "cell_type": "code",
   "execution_count": null,
   "metadata": {},
   "outputs": [],
   "source": [
    "data_dum.info()"
   ]
  },
  {
   "cell_type": "code",
   "execution_count": null,
   "metadata": {},
   "outputs": [],
   "source": [
    "data_dum.groupby(['birth', 'pregnancy', 'abort'], dropna=False).size()"
   ]
  },
  {
   "cell_type": "code",
   "execution_count": null,
   "metadata": {},
   "outputs": [],
   "source": [
    "# birth=-1 doesn't make sense --> replace it with 0\n",
    "\n",
    "data_dum['birth'] = data_dum['birth'].replace({-1: 0})\n",
    "data_dum.groupby(['birth', 'pregnancy', 'abort'], dropna=False).size()"
   ]
  },
  {
   "cell_type": "code",
   "execution_count": null,
   "metadata": {},
   "outputs": [],
   "source": [
    "# replace abort Nan when birth = 0\n",
    "data_dum = replace_nan_2cond(data_dum, 'birth', 'pregnancy', 0, 0, 'abort', 0)\n",
    "data_dum = replace_nan_2cond(data_dum, 'birth', 'pregnancy', 0, 2, 'abort', 0)\n",
    "\n",
    "# 98 cases with birth=0 and pregnancy,abort=NaN --> should we replace everything with 0?\n",
    "#data_dum = replace_nan_1cond(data_dum, 'birth', 0, 'pregnancy', 0)\n",
    "#data_dum = replace_nan_2cond(data_dum, 'birth', 'pregnancy', 0, 0, 'abort', 0)\n",
    "\n",
    "# replace abort NaN when birth=1\n",
    "data_dum = replace_nan_2cond(data_dum, 'birth', 'pregnancy', 1, 1, 'abort', 0)\n",
    "\n",
    "# replace abort NaN when birth=2\n",
    "data_dum = replace_nan_2cond(data_dum, 'birth', 'pregnancy', 2, 2, 'abort', 0)\n",
    "\n",
    "# replace abort NaN when birth=3\n",
    "data_dum = replace_nan_2cond(data_dum, 'birth', 'pregnancy', 3, 3, 'abort', 0)\n",
    "\n",
    "# 1 case with birth=3, but pregnancy and abort NaN --> should we replace with pregnancy=3 and abort=0?\n",
    "#data_dum = replace_nan_1cond(data_dum, 'birth', 3, 'pregnancy', 3)\n",
    "#data_dum = replace_nan_2cond(data_dum, 'birth', 'pregnancy', 3, 3, 'abort', 0)"
   ]
  },
  {
   "cell_type": "code",
   "execution_count": null,
   "metadata": {},
   "outputs": [],
   "source": [
    "data_dum.groupby(['birth', 'pregnancy', 'abort'], dropna=False).size()"
   ]
  },
  {
   "cell_type": "code",
   "execution_count": null,
   "metadata": {},
   "outputs": [],
   "source": [
    "data_dum.info()"
   ]
  },
  {
   "cell_type": "code",
   "execution_count": null,
   "metadata": {},
   "outputs": [],
   "source": []
  }
 ],
 "metadata": {
  "kernelspec": {
   "display_name": "Python 3 (ipykernel)",
   "language": "python",
   "name": "python3"
  },
  "language_info": {
   "codemirror_mode": {
    "name": "ipython",
    "version": 3
   },
   "file_extension": ".py",
   "mimetype": "text/x-python",
   "name": "python",
   "nbconvert_exporter": "python",
   "pygments_lexer": "ipython3",
   "version": "3.9.13"
  },
  "vscode": {
   "interpreter": {
    "hash": "d7caac3c13166b51166462c78fd3a0f48ae424f75ecdaa75fab4d4748ca1b6a3"
   }
  }
 },
 "nbformat": 4,
 "nbformat_minor": 2
}
