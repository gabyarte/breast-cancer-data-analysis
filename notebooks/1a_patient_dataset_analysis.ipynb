{
 "cells": [
  {
   "cell_type": "code",
   "execution_count": null,
   "metadata": {},
   "outputs": [],
   "source": [
    "%load_ext autoreload\n",
    "%autoreload 2"
   ]
  },
  {
   "cell_type": "code",
   "execution_count": null,
   "metadata": {},
   "outputs": [],
   "source": [
    "# import libraries\n",
    "import pandas as pd\n",
    "import numpy as np\n",
    "import datetime as dt\n",
    "import matplotlib.pyplot as plt\n",
    "import seaborn as sns\n",
    "\n",
    "from sklearn.preprocessing import FunctionTransformer\n",
    "\n",
    "from paths import RAW_DIR, STAGE_DIR\n",
    "from display import cdisplay, rdisplay\n",
    "from transformers import *\n",
    "from functions import to_numeric, to_binary_from_nan, inspect_nulls"
   ]
  },
  {
   "cell_type": "markdown",
   "metadata": {},
   "source": [
    "### Import the data"
   ]
  },
  {
   "cell_type": "code",
   "execution_count": null,
   "metadata": {},
   "outputs": [],
   "source": [
    "patient_1 = pd.read_excel(RAW_DIR / 'breast_cancer_data.xlsx')\n",
    "patient_2 = pd.read_excel(RAW_DIR / 'breast_cancer_data_2.xlsx')\n",
    "\n",
    "# concatenate the two datasets\n",
    "data = pd.concat([patient_1, patient_2]).drop(['Unnamed: 0'], axis=1)\n",
    "data.head(20)"
   ]
  },
  {
   "attachments": {},
   "cell_type": "markdown",
   "metadata": {},
   "source": [
    "### Solving duplicates in `ehr`"
   ]
  },
  {
   "cell_type": "code",
   "execution_count": null,
   "metadata": {},
   "outputs": [],
   "source": [
    "data['ehr'].value_counts(dropna=False)"
   ]
  },
  {
   "cell_type": "code",
   "execution_count": null,
   "metadata": {},
   "outputs": [],
   "source": [
    "cdisplay(data[data['ehr'].isin([268, 6897])])"
   ]
  },
  {
   "attachments": {},
   "cell_type": "markdown",
   "metadata": {},
   "source": [
    "We can see that repeated observations of patients 268 and 6897 have identical values for the rest of the columns. For this reason, we can drop the repeated observations."
   ]
  },
  {
   "cell_type": "code",
   "execution_count": null,
   "metadata": {},
   "outputs": [],
   "source": [
    "data = data.drop_duplicates()"
   ]
  },
  {
   "cell_type": "code",
   "execution_count": null,
   "metadata": {},
   "outputs": [],
   "source": [
    "cdisplay(data)"
   ]
  },
  {
   "cell_type": "markdown",
   "metadata": {},
   "source": [
    "### Creating new columns"
   ]
  },
  {
   "cell_type": "code",
   "execution_count": null,
   "metadata": {},
   "outputs": [],
   "source": [
    "data[pd.to_datetime(data['diagnosis_date']).gt(dt.datetime.today())]"
   ]
  },
  {
   "cell_type": "code",
   "execution_count": null,
   "metadata": {},
   "outputs": [],
   "source": [
    "data[pd.to_datetime(data['diagnosis_date']).gt(pd.to_datetime(data['death_date']))]"
   ]
  },
  {
   "cell_type": "code",
   "execution_count": null,
   "metadata": {},
   "outputs": [],
   "source": [
    "assign_map = {\n",
    "    # fix diagnosis date\n",
    "    'diagnosis_date': lambda df: np.select(\n",
    "        [pd.to_datetime(df['diagnosis_date']).gt(dt.datetime.today()),\n",
    "         pd.to_datetime(df['diagnosis_date']).gt(pd.to_datetime(df['death_date']))],\n",
    "        [dt.datetime.today().strftime('%Y-%m-%d'), df['death_date']],\n",
    "        df['diagnosis_date']\n",
    "    ),\n",
    "\n",
    "    'age': lambda df: np.where(\n",
    "        df['death_date'].isna(),\n",
    "        dt.datetime.today() - pd.to_datetime(df['birth_date']),\n",
    "        pd.to_datetime(df['death_date']) - pd.to_datetime(df['birth_date'])\n",
    "    ).astype('timedelta64[Y]').astype(int),\n",
    "    'years_from_diagnosis': lambda df: np.where(\n",
    "        df['death_date'].isna(),\n",
    "        dt.datetime.today() - pd.to_datetime(df['diagnosis_date']),\n",
    "        pd.to_datetime(df['death_date']) - pd.to_datetime(df['diagnosis_date'])\n",
    "    ).astype('timedelta64[Y]').astype(int),\n",
    "    'is_dead': lambda df: to_binary_from_nan(df, 'death_date'),\n",
    "    'recurrence': lambda df: to_binary_from_nan(df, 'recurrence_year'),\n",
    "    'menopause': lambda df: to_binary_from_nan(df, 'menopause_age'),\n",
    "    # NOTE 1 null value in neoadjuvant: probably is going to be solved when\n",
    "    # merging with the other dataset\n",
    "    'neoadjuvant': lambda df: df['neoadjuvant'].replace({'no': 0, 'yes': 1}),\n",
    "    # NOTE birth = -1 doesn't make sense --> replace it with 0\n",
    "    'birth': lambda df: np.where(\n",
    "        df['birth'].eq(-1) & df['pregnancy'].gt(0),\n",
    "        df['pregnancy'],\n",
    "        df['birth'].replace({-1: 0})\n",
    "    ).astype(int),\n",
    "    'caesarean': lambda df: np.where(\n",
    "        df[['pregnancy', 'abort', 'birth']].gt(0).all(1) \\\n",
    "            & df['caesarean'].isna()\\\n",
    "            & (df['pregnancy'] - df['abort'] - df['birth']).ge(0),\n",
    "        df['pregnancy'] - df['abort'] - df['birth'],\n",
    "        df['caesarean'].fillna(0)\n",
    "    ).astype(int),\n",
    "    'abort': lambda df: df['abort'].fillna(0).astype(int),\n",
    "    'pregnancy': lambda df: np.where(\n",
    "        df['pregnancy'].isna() \\\n",
    "            | ~df['pregnancy'].eq(df['birth'] + df['caesarean'] + df['abort']),\n",
    "        df['birth'] + df['caesarean'] + df['abort'],\n",
    "        df['pregnancy']\n",
    "    ).astype(int),\n",
    "    # utils for imputation\n",
    "    'group_age': lambda df: np.select(\n",
    "        [df['age'].isin(list(range(i, i + 10))) for i in range(1, 100, 10)],\n",
    "        [f'{i} - {i + 10}' for i in range(1, 100, 10)],\n",
    "        '100+'\n",
    "    ),\n",
    "    'group_years_from_diagnosis': lambda df: np.select(\n",
    "        [df['years_from_diagnosis'].isin(list(range(i, i + 5)))\n",
    "         for i in range(1, 30, 5)],\n",
    "        [f'{i} - {i + 5}' for i in range(1, 30, 5)],\n",
    "        '30+'\n",
    "    ),\n",
    "}\n",
    "\n",
    "assign_transformer = AssignTransformer(assign_map)\n",
    "assigned_data = assign_transformer.transform(data)"
   ]
  },
  {
   "cell_type": "code",
   "execution_count": null,
   "metadata": {},
   "outputs": [],
   "source": [
    "assigned_data[['birth', 'abort', 'caesarean', 'pregnancy']].value_counts(dropna=False).sort_index()"
   ]
  },
  {
   "cell_type": "code",
   "execution_count": null,
   "metadata": {},
   "outputs": [],
   "source": [
    "assigned_data['group_age'].value_counts(dropna=False)"
   ]
  },
  {
   "cell_type": "code",
   "execution_count": null,
   "metadata": {},
   "outputs": [],
   "source": [
    "assigned_data['group_years_from_diagnosis'].value_counts(dropna=False)"
   ]
  },
  {
   "cell_type": "markdown",
   "metadata": {},
   "source": [
    "### Drop columns"
   ]
  },
  {
   "cell_type": "code",
   "execution_count": null,
   "metadata": {},
   "outputs": [],
   "source": [
    "inspect_nulls(assigned_data)"
   ]
  },
  {
   "cell_type": "code",
   "execution_count": null,
   "metadata": {},
   "outputs": [],
   "source": [
    "# drop birth_date, diagnosis_date, side (more than 200 null)\n",
    "drop_transformer = FunctionTransformer(\n",
    "    func=lambda df: df.drop([\n",
    "        'birth_date', 'diagnosis_date', 'death_date', 'recurrence_year',\n",
    "        'menopause_age', 'side'], axis=1)\n",
    ")\n",
    "dropped_data = drop_transformer.transform(assigned_data)\n",
    "dropped_data.head(20)"
   ]
  },
  {
   "cell_type": "code",
   "execution_count": null,
   "metadata": {},
   "outputs": [],
   "source": [
    "dropped_data.info()"
   ]
  },
  {
   "attachments": {},
   "cell_type": "markdown",
   "metadata": {},
   "source": [
    "### Impute null values"
   ]
  },
  {
   "cell_type": "code",
   "execution_count": null,
   "metadata": {},
   "outputs": [],
   "source": [
    "GROUPS_INDEX = ['group_age']\n",
    "GROUP_MODE_IMPUTE = ['er_positive', 'pr_positive', 'her2_positive', 'grade']\n",
    "GROUP_MEAN_IMPUTE = ['ki67']\n",
    "GLOBAL_MODE_IMPUTE = ['menarche_age']\n",
    "\n",
    "global_imputer = SimpleImputerTransformer(strategy='most_frequent')\n",
    "\n",
    "group_imputer_map = {\n",
    "    **{\n",
    "        variable: lambda df, variable=variable: np.where(\n",
    "            df[variable].isna(),\n",
    "            df[GROUPS_INDEX].merge(\n",
    "                df.groupby(GROUPS_INDEX)[variable].apply(lambda x:\n",
    "                    x.mode().iloc[0] if not x.mode().empty else np.NaN),\n",
    "                left_on=GROUPS_INDEX, right_index=True, how='left')[variable],\n",
    "            df[variable]\n",
    "        ).astype(int)\n",
    "        for variable in GROUP_MODE_IMPUTE\n",
    "    },\n",
    "    **{\n",
    "        variable: lambda df, variable=variable: np.where(\n",
    "            df[variable].isna(),\n",
    "            df[GROUPS_INDEX].merge(\n",
    "                df.groupby(GROUPS_INDEX)[variable].apply('mean'),\n",
    "                left_on=GROUPS_INDEX, right_index=True, how='left')[variable],\n",
    "            df[variable]\n",
    "        )\n",
    "        for variable in GROUP_MEAN_IMPUTE\n",
    "    },\n",
    "}\n",
    "group_imputer = AssignTransformer(group_imputer_map)\n",
    "\n",
    "imputer_transformer = PandasColumnTransformer([\n",
    "    ('global_imputer', global_imputer, GLOBAL_MODE_IMPUTE),\n",
    "    ('group_imputer', group_imputer, GROUPS_INDEX + GROUP_MODE_IMPUTE + GROUP_MEAN_IMPUTE)\n",
    "], remainder='passthrough')\n",
    "\n",
    "imputed_data = imputer_transformer.fit_transform(dropped_data)"
   ]
  },
  {
   "cell_type": "code",
   "execution_count": null,
   "metadata": {},
   "outputs": [],
   "source": [
    "inspect_nulls(imputed_data)"
   ]
  },
  {
   "cell_type": "code",
   "execution_count": null,
   "metadata": {},
   "outputs": [],
   "source": [
    "imputed_data[GROUP_MODE_IMPUTE + GROUP_MEAN_IMPUTE + GLOBAL_MODE_IMPUTE]"
   ]
  },
  {
   "cell_type": "code",
   "execution_count": null,
   "metadata": {},
   "outputs": [],
   "source": [
    "imputed_data.info()"
   ]
  },
  {
   "cell_type": "markdown",
   "metadata": {},
   "source": [
    "### Data Visualization"
   ]
  },
  {
   "cell_type": "code",
   "execution_count": null,
   "metadata": {},
   "outputs": [],
   "source": [
    "fig, axes = plt.subplots(1, 3, figsize=(14, 4))\n",
    "\n",
    "sns.countplot(ax=axes[0], data=imputed_data, x=\"grade\", hue=\"neoadjuvant\", palette=\"RdPu\")\n",
    "axes[0].set(xlabel=None)\n",
    "axes[0].set_title('Grade')\n",
    "\n",
    "sns.countplot(ax=axes[1], data=imputed_data, x=\"hist_type\", hue=\"neoadjuvant\", palette=\"RdPu\")\n",
    "axes[1].set(xlabel=None)\n",
    "axes[1].set_title('Histological Type')\n",
    "\n",
    "sns.countplot(ax=axes[2], data=imputed_data, x=\"recurrence\", hue=\"neoadjuvant\", palette=\"RdPu\")\n",
    "axes[2].set(xlabel=None)\n",
    "axes[2].set_title('Recurrence')"
   ]
  },
  {
   "cell_type": "code",
   "execution_count": null,
   "metadata": {},
   "outputs": [],
   "source": [
    "fig, axes = plt.subplots(1, 3, figsize=(14, 4))\n",
    "\n",
    "sns.violinplot(ax=axes[0], data=imputed_data, x=\"recurrence\", y=\"ki67\", hue=\"neoadjuvant\", split=True, palette=\"Paired\")\n",
    "axes[0].set_title('Distribution of ki67')\n",
    "\n",
    "sns.violinplot(ax=axes[1], data=imputed_data, x=\"recurrence\", y=\"age\", hue=\"neoadjuvant\", split=True, palette=\"Paired\")\n",
    "axes[1].set_title('Distribution of Age')\n",
    "\n",
    "sns.violinplot(ax=axes[2], data=imputed_data, x=\"recurrence\", y=\"years_from_diagnosis\", hue=\"neoadjuvant\", split=True, palette=\"Paired\")\n",
    "axes[2].set_title('Distribution of years_from_diagnosis')"
   ]
  },
  {
   "cell_type": "markdown",
   "metadata": {},
   "source": [
    "### Map values and replace with most frequent"
   ]
  },
  {
   "cell_type": "code",
   "execution_count": null,
   "metadata": {},
   "outputs": [],
   "source": [
    "imputed_data.to_parquet(STAGE_DIR / 'patient-preprocessed-v3.parquet')"
   ]
  }
 ],
 "metadata": {
  "kernelspec": {
   "display_name": "Python 3 (ipykernel)",
   "language": "python",
   "name": "python3"
  },
  "language_info": {
   "codemirror_mode": {
    "name": "ipython",
    "version": 3
   },
   "file_extension": ".py",
   "mimetype": "text/x-python",
   "name": "python",
   "nbconvert_exporter": "python",
   "pygments_lexer": "ipython3",
   "version": "3.10.8"
  },
  "vscode": {
   "interpreter": {
    "hash": "d7caac3c13166b51166462c78fd3a0f48ae424f75ecdaa75fab4d4748ca1b6a3"
   }
  }
 },
 "nbformat": 4,
 "nbformat_minor": 2
}
